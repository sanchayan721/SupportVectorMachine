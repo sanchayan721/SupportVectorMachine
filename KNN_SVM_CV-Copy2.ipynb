{
 "cells": [
  {
   "cell_type": "markdown",
   "metadata": {},
   "source": [
    "## Implementation of SVM from scratch and comparison with KNN With K-Fold Cross Validation (Synthetic Data) \n",
    "\n",
    "##### Author - Sanchayan Bhunia (4849650)\n",
    "\n",
    "#### Type-I Project -- Algorithm development"
   ]
  },
  {
   "cell_type": "code",
   "execution_count": 7,
   "metadata": {},
   "outputs": [],
   "source": [
    "# import libraries\n",
    "%matplotlib inline\n",
    "import numpy as np\n",
    "import matplotlib.pyplot as plt\n",
    "import os\n",
    "import pickle"
   ]
  },
  {
   "cell_type": "code",
   "execution_count": 8,
   "metadata": {},
   "outputs": [],
   "source": [
    "def euclidDistance(P1,P2):\n",
    "    return np.linalg.norm(P1-P2,2)"
   ]
  },
  {
   "cell_type": "code",
   "execution_count": 9,
   "metadata": {},
   "outputs": [],
   "source": [
    "def allDistances(X1, X2):\n",
    "    D = np.zeros((X1.shape[0], X2.shape[0]))\n",
    "    for idx1 in range(len(X1)):\n",
    "        for idx2 in range(len(X2)):\n",
    "            D[idx1,idx2] = euclidDistance(X1[idx1,:],X2[idx2,:])\n",
    "    return D\n",
    "    "
   ]
  },
  {
   "cell_type": "markdown",
   "metadata": {},
   "source": [
    "## KNN Classifier"
   ]
  },
  {
   "cell_type": "code",
   "execution_count": 10,
   "metadata": {},
   "outputs": [],
   "source": [
    "def kNNClassify(Xtr, Ytr, k, Xte, Te=1):\n",
    "\n",
    "    n_train = Xtr.shape[0]\n",
    "    n_test = Xte.shape[0]\n",
    "\n",
    "    if any(np.abs(Ytr) != 1):\n",
    "        print(\"The values of Ytr should be +1 or -1.\")\n",
    "        return -1\n",
    "\n",
    "    if k > n_train:\n",
    "        print(\"k is greater than the number of points, setting k=n_train\")\n",
    "        k = n_train\n",
    "\n",
    "    Ypred = np.zeros(n_test)\n",
    "\n",
    "    dist = allDistances(Xte, Xtr)\n",
    "\n",
    "    for idx in range(n_test):\n",
    "        if(Te==1): # test set\n",
    "            neigh_indexes = np.argsort(dist[idx, :])[:k]\n",
    "        else:\n",
    "            neigh_indexes = np.argsort(dist[idx, :])[1:k+1]\n",
    "            \n",
    "        avg_neigh = np.mean(Ytr[neigh_indexes])\n",
    "        Ypred[idx] = np.sign(avg_neigh)\n",
    "\n",
    "    return Ypred"
   ]
  },
  {
   "cell_type": "markdown",
   "metadata": {},
   "source": [
    "## SVM Classifier"
   ]
  },
  {
   "cell_type": "code",
   "execution_count": 11,
   "metadata": {},
   "outputs": [],
   "source": [
    "def svmPredict(Xtr, Ytr, Xte, reg_parm = 0.1, epochs = 100000):\n",
    "    \n",
    "    n_train, d_train = np.shape(Xtr)\n",
    "    \n",
    "    if any(np.abs(Ytr) != 1):\n",
    "        print(\"The values of Ytr should be +1 or -1.\")\n",
    "        return -1\n",
    "    \n",
    "    \n",
    "    \n",
    "    w = np.zeros(d_train)\n",
    "    \n",
    "    for epoch in range(1, epochs):\n",
    "        learning_rate = 1/epoch        # variable learning rate\n",
    "        for i, x in enumerate(Xtr):\n",
    "            if (Ytr[i] * np.dot(Xtr[i], w)) < 1:\n",
    "                w = (1 - learning_rate)*w + (learning_rate)*reg_parm*Ytr[i]*Xtr[i]\n",
    "            else:\n",
    "                w = (1 - learning_rate)*w\n",
    "    \n",
    "    Ypred = np.dot(Xte, w)\n",
    "    \n",
    "    return Ypred, w"
   ]
  },
  {
   "cell_type": "code",
   "execution_count": null,
   "metadata": {},
   "outputs": [],
   "source": []
  },
  {
   "cell_type": "markdown",
   "metadata": {},
   "source": [
    "## Data Generation"
   ]
  },
  {
   "cell_type": "code",
   "execution_count": 12,
   "metadata": {},
   "outputs": [],
   "source": [
    "def linearBinaryClass(n, low_D, high_D, m, q):\n",
    "\n",
    "    X = np.zeros((n, 2))\n",
    "    Y = np.zeros(n)\n",
    "    for i in range(2):\n",
    "        X[:,i] = np.random.uniform(low_D, high_D, size=n)\n",
    "        \n",
    "    Y[X[:,1] - (X[:,0] * m + q) > 0] = 1 \n",
    "    Y[X[:,1] - (X[:,0] * m + q) < 0] = -1\n",
    "    \n",
    "    return X,Y"
   ]
  },
  {
   "cell_type": "code",
   "execution_count": 13,
   "metadata": {},
   "outputs": [],
   "source": [
    "def flipLabels(Y, P):\n",
    "    if P < 1 or P > 100:\n",
    "        print(\"p should be a percentage value between 0 and 100.\")\n",
    "        return -1\n",
    "\n",
    "    if any(np.abs(Y) != 1):\n",
    "        print(\"The values of Ytr should be +1 or -1.\")\n",
    "        return -1\n",
    "\n",
    "    Y_noisy = np.copy(np.squeeze(Y))\n",
    "    if Y_noisy.ndim > 1:\n",
    "        print(\"Please supply a label array with only one dimension\")\n",
    "        return -1\n",
    "\n",
    "    n = Y_noisy.size\n",
    "    n_flips = int(np.floor(n * P / 100))\n",
    "    idx_to_flip = np.random.choice(n, size=n_flips, replace=False)\n",
    "    Y_noisy[idx_to_flip] = -Y_noisy[idx_to_flip]\n",
    "\n",
    "    return Y_noisy"
   ]
  },
  {
   "cell_type": "markdown",
   "metadata": {},
   "source": [
    "# Classification Error Calculation KNN"
   ]
  },
  {
   "cell_type": "code",
   "execution_count": 14,
   "metadata": {},
   "outputs": [],
   "source": [
    "def knncalcError(Ypred, Ytrue):\n",
    "    return (np.count_nonzero(Ypred!=Ytrue))/len(Ytrue)"
   ]
  },
  {
   "cell_type": "markdown",
   "metadata": {},
   "source": [
    "# Classification Error Calculation SVM"
   ]
  },
  {
   "cell_type": "code",
   "execution_count": 15,
   "metadata": {},
   "outputs": [],
   "source": [
    "def calcErrorSVM(Ypred, Ytrue):\n",
    "    cnt = 0\n",
    "    for i in range(len(Ytrue)):\n",
    "        if Ypred[i]*Ytrue[i] <1 :\n",
    "            cnt +=1\n",
    "    return cnt/len(Ytrue)"
   ]
  },
  {
   "cell_type": "markdown",
   "metadata": {},
   "source": [
    "# KNN Train-Test Error Analysis"
   ]
  },
  {
   "cell_type": "code",
   "execution_count": 16,
   "metadata": {},
   "outputs": [],
   "source": [
    "def knntrainTestAnalysis(Ks, Xtr, Ytr, Xte, Yte):\n",
    "\n",
    "    train_err = np.zeros(np.shape(Ks))\n",
    "    test_err = np.zeros(np.shape(Ks))\n",
    "\n",
    "    kpos = 0\n",
    "    for kpos in range(len(Ks)):\n",
    "        Ypredte = kNNClassify(Xtr, Ytr, Ks[kpos], Xte)\n",
    "        test_err[kpos] = knncalcError(Ypredte, Yte)\n",
    "        \n",
    "        Ypredtr = kNNClassify(Xtr, Ytr, Ks[kpos], Xtr)\n",
    "        train_err[kpos] = knncalcError(Ypredtr, Ytr)\n",
    "\n",
    "    return train_err, test_err"
   ]
  },
  {
   "cell_type": "markdown",
   "metadata": {},
   "source": [
    "# SVM Train-Test Error Analysis"
   ]
  },
  {
   "cell_type": "code",
   "execution_count": 17,
   "metadata": {},
   "outputs": [],
   "source": [
    "def svmTrainTestAnalysis(Xtr, Ytr, Xte, Yte, reg_params):\n",
    "    \n",
    "    train_err = np.zeros(np.shape(reg_params))\n",
    "    test_err = np.zeros(np.shape(reg_params))\n",
    "    \n",
    "    for i in range(len(reg_params)):\n",
    "        Ypredt, w_train = svmPredict(Xtr, Ytr, Xtr, reg_params[i])\n",
    "        train_err[i] = calcErrorSVM(Ypredt, Ytr)\n",
    "        \n",
    "        Ypredtr, w_pred = svmPredict(Xtr, Ytr, Xte, reg_params[i])\n",
    "        test_err[i] = calcErrorSVM(Ypredtr, Yte)\n",
    "\n",
    "    return train_err, test_err"
   ]
  },
  {
   "cell_type": "markdown",
   "metadata": {},
   "source": [
    "# K-Fold Cross Validation for KNN"
   ]
  },
  {
   "cell_type": "code",
   "execution_count": 18,
   "metadata": {},
   "outputs": [],
   "source": [
    "def KFoldCVkNN(Xtr, Ytr, KF, k_list):\n",
    "\n",
    "    if KF <= 0:\n",
    "        print(\"Please supply a positive number of repetitions\")\n",
    "        return -1\n",
    "\n",
    "    # Ensures that k_list is a numpy array\n",
    "    k_list = np.array(k_list)\n",
    "    num_k = k_list.size\n",
    "\n",
    "    n_tot = Xtr.shape[0]\n",
    "    n_val = int(np.ceil(n_tot/KF))\n",
    "\n",
    "    Tm = np.zeros(num_k)\n",
    "    Ts = np.zeros(num_k)\n",
    "    Vm = np.zeros(num_k)\n",
    "    Vs = np.zeros(num_k)\n",
    "\n",
    "    # Random permutation of training data\n",
    "    rand_idx = np.random.choice(n_tot, size=n_tot, replace=False)\n",
    "    \n",
    "    \n",
    "    for kdx, k in enumerate(k_list):\n",
    "        first = 0\n",
    "        for fold in range(KF):\n",
    "           \n",
    "            flags = np.zeros(Xtr.shape[0])\n",
    "            flags[first:first+n_val]=1;\n",
    "            \n",
    "            X = Xtr[flags==0]\n",
    "            Y = Ytr[flags==0]\n",
    "            X_val = Xtr[flags==1]\n",
    "            Y_val = Ytr[flags==1]\n",
    "\n",
    "            # Compute the training error of the kNN classifier for the given value of k\n",
    "            trError = knncalcError(kNNClassify(X, Y, k, X), Y)\n",
    "            Tm[kdx] += trError\n",
    "            Ts[kdx] += trError ** 2\n",
    "\n",
    "            # Compute the validation error of the kNN classifier for the given value of k\n",
    "            valError = knncalcError(kNNClassify(X, Y, k, X_val), Y_val)\n",
    "            Vm[kdx] += valError\n",
    "            Vs[kdx] += valError ** 2\n",
    "            \n",
    "            first = first+n_val                \n",
    "\n",
    "    Tm = Tm / len(Tm)\n",
    "    Ts = Ts / len(Ts) - Tm ** 2\n",
    "\n",
    "    Vm = Vm / len(Vm)\n",
    "    Vs = Vs / len(Vs) - Vm ** 2\n",
    "\n",
    "    best_k_idx = np.argmin(Vm)\n",
    "    k = k_list[best_k_idx]\n",
    "\n",
    "    return k, Vm, Vs, Tm, Ts"
   ]
  },
  {
   "cell_type": "markdown",
   "metadata": {},
   "source": [
    "# K-Fold Cross Validation for SVM"
   ]
  },
  {
   "cell_type": "code",
   "execution_count": 19,
   "metadata": {},
   "outputs": [],
   "source": [
    "def kFoldCrossValidationSVM(X,Y, num_of_folds, reg_param_list):\n",
    "    \n",
    "    if num_of_folds <= 0 and num_of_folds >= 100 and isinstance(num_of_folds_folds, int):\n",
    "        print(\"select an integer in between 1 and 100\")\n",
    "        return -1\n",
    "        \n",
    "    size_of_input = X.shape[0]   \n",
    "    size_of_validation = int(np.ceil(size_of_input/num_of_folds))\n",
    "    \n",
    "    num_reg_param = len(reg_param_list)\n",
    "    reg_param_list = np.array(reg_param_list)\n",
    "    \n",
    "    \n",
    "    T_mean, T_sd, V_mean, V_sd = np.zeros(num_reg_param),                                                  \\\n",
    "                                 np.zeros(num_reg_param),                                                  \\\n",
    "                                 np.zeros(num_reg_param),                                                  \\\n",
    "                                 np.zeros(num_reg_param)\n",
    "        \n",
    "    random_index = np.random.choice(size_of_input, size=size_of_input, replace=False)\n",
    "    \n",
    "    for reg_index, reg_param in enumerate(reg_param_list):\n",
    "        first = 0\n",
    "        for fold in range(num_of_folds):\n",
    "            \n",
    "            flags = np.zeros(size_of_input)\n",
    "            flags[first:first+size_of_validation] = 1\n",
    "            \n",
    "            X_training, Y_training = X[flags == 0], Y[flags == 0]\n",
    "            X_validation, Y_validation = X[flags == 1], Y[flags == 1]\n",
    "            \n",
    "            # training Error calculation\n",
    "            Y_train_predict, w = svmPredict(X_training, Y_training, X_training, reg_param)\n",
    "            training_error = calcErrorSVM(Y_train_predict, Y_training)\n",
    "            \n",
    "            T_mean[reg_index] += training_error\n",
    "            T_sd[reg_index] += training_error**2\n",
    "            \n",
    "            # validation errorcalculation\n",
    "            Y_validation_predict, w = svmPredict(X_training, Y_training, X_validation, reg_param)\n",
    "            validation_error = calcErrorSVM(Y_validation_predict, Y_validation)\n",
    "            \n",
    "            V_mean[reg_index] += validation_error\n",
    "            V_sd[reg_index] += validation_error**2\n",
    "            \n",
    "            first += size_of_validation\n",
    "            \n",
    "    T_mean = T_mean / num_of_folds \n",
    "    T_sd = T_sd / num_of_folds - T_mean**2\n",
    "    \n",
    "    V_mean = V_mean / num_of_folds \n",
    "    V_sd = V_sd - V_mean**2\n",
    "    \n",
    "    best_reg_param_index = np.argmin(V_mean)\n",
    "    best_reg_param = reg_param_list[best_reg_param_index]\n",
    "    \n",
    "    return best_reg_param, T_mean, T_sd, V_mean, V_sd"
   ]
  },
  {
   "cell_type": "markdown",
   "metadata": {},
   "source": [
    "## Generating the data synthetically"
   ]
  },
  {
   "cell_type": "code",
   "execution_count": 20,
   "metadata": {},
   "outputs": [],
   "source": [
    "X, Y = linearBinaryClass(200, 0, 20, 0.8, 0)\n",
    "Y = flipLabels(Y, 5)    # 5% white noise in data"
   ]
  },
  {
   "cell_type": "markdown",
   "metadata": {},
   "source": [
    "## Calling the model to get an overview for a fixed Regularization Parameter"
   ]
  },
  {
   "cell_type": "code",
   "execution_count": 21,
   "metadata": {},
   "outputs": [
    {
     "data": {
      "image/png": "[encoded data removed]",
      "text/plain": [
       "<Figure size 432x288 with 1 Axes>"
      ]
     },
     "metadata": {
      "needs_background": "light"
     },
     "output_type": "display_data"
    }
   ],
   "source": [
    "# % of data to be used as training\n",
    "training_percentage = 70\n",
    "size_of_input_data = X.shape[0]\n",
    "\n",
    "Xtr = X[0 : (int(size_of_input_data*training_percentage/100)), :]\n",
    "Ytr = Y[0: (int(size_of_input_data*training_percentage/100))]\n",
    "Xte = X[(int(size_of_input_data*training_percentage/100)) : , :]\n",
    "Yte = Y[(int(size_of_input_data*training_percentage/100)) : ]\n",
    "\n",
    "reg_param = 40\n",
    "Y_pred, w = svmPredict(Xtr, Ytr, Xte, reg_param) \n",
    "\n",
    "# Visualization of the model\n",
    "\n",
    "plt.scatter(np.array(X[:,0]), np.array(X[:,1]),marker='*',c=Y)\n",
    "\n",
    "# Create the hyperplane\n",
    "\n",
    "a = -w[0] / w[1]\n",
    "xx = np.linspace(0,20)\n",
    "yy = a * xx \n",
    "\n",
    "# Plot the hyperplane\n",
    "plt.plot(xx, yy, color='red')\n",
    "\n",
    "# Plot support vectors \n",
    "plt.plot(xx, (yy+1), linestyle='--', color='blue')\n",
    "plt.plot(xx, (yy-1), linestyle='--', color='blue')\n",
    "\n",
    "plt.show();"
   ]
  },
  {
   "cell_type": "markdown",
   "metadata": {},
   "source": [
    "## Let's check the trainig and validation error for Order of the Regularization Parameters"
   ]
  },
  {
   "cell_type": "code",
   "execution_count": 22,
   "metadata": {},
   "outputs": [
    {
     "name": "stdout",
     "output_type": "stream",
     "text": [
      "Time taken to complete process: 1036.5875281\n"
     ]
    }
   ],
   "source": [
    "import timeit\n",
    "\n",
    "reg_params = [0.001, 0.01, 0.1, 1, 10, 100, 1000, 10000, 100000, 1000000, 10000000]\n",
    "train_errors = np.zeros(len(reg_params))\n",
    "validation_errors = np.zeros(len(reg_params))\n",
    "\n",
    "start_time = timeit.default_timer()\n",
    "\n",
    "train_errors, validation_errors = svmTrainTestAnalysis(Xtr, Ytr, Xte, Yte, reg_params)\n",
    "    \n",
    "end_time = timeit.default_timer()\n",
    "\n",
    "print('Time taken to complete process:', end_time - start_time)"
   ]
  },
  {
   "cell_type": "code",
   "execution_count": 23,
   "metadata": {},
   "outputs": [
    {
     "name": "stdout",
     "output_type": "stream",
     "text": [
      "[1.         1.         0.68571429 0.42857143 0.33571429 0.28571429\n",
      " 0.20714286 0.08571429 0.07142857 0.06428571 0.07857143]\n"
     ]
    }
   ],
   "source": [
    "print(train_errors)"
   ]
  },
  {
   "cell_type": "code",
   "execution_count": 24,
   "metadata": {},
   "outputs": [
    {
     "data": {
      "image/png": "[encoded data removed]",
      "text/plain": [
       "<Figure size 432x288 with 1 Axes>"
      ]
     },
     "metadata": {
      "needs_background": "light"
     },
     "output_type": "display_data"
    }
   ],
   "source": [
    "plt.plot(np.log10(np.array(reg_params)), np.array(train_errors), label='Training Error')\n",
    "plt.plot(np.log10(np.array(reg_params)), np.array(validation_errors), label='Validation Error')\n",
    "plt.xlabel('Regularization Parameters (log scale)', color='#1C2833')\n",
    "plt.ylabel('Errors', color='#1C2833')\n",
    "plt.legend(loc='upper right')\n",
    "plt.grid()\n",
    "plt.show()"
   ]
  },
  {
   "cell_type": "code",
   "execution_count": 25,
   "metadata": {},
   "outputs": [
    {
     "name": "stdout",
     "output_type": "stream",
     "text": [
      "[1.         1.         0.78333333 0.41666667 0.36666667 0.28333333\n",
      " 0.2        0.08333333 0.08333333 0.03333333 0.08333333]\n"
     ]
    }
   ],
   "source": [
    "print(validation_errors)"
   ]
  },
  {
   "cell_type": "markdown",
   "metadata": {},
   "source": [
    "## Let's run a K-Fold Cross-validation on SVM"
   ]
  },
  {
   "cell_type": "code",
   "execution_count": 80,
   "metadata": {},
   "outputs": [
    {
     "name": "stdout",
     "output_type": "stream",
     "text": [
      "40 [0.05487713 0.04990201 0.04990201 0.05985225] [0.00793128 0.00600213 0.00733873 0.00891985]\n"
     ]
    }
   ],
   "source": [
    "reg_param_range = [10, 40, 70, 100]\n",
    "number_of_folds = 3\n",
    "best_reg_param, T_mean, T_sd, V_mean, V_sd = kFoldCrossValidationSVM(X,Y, number_of_folds, reg_param_range)\n",
    "print(best_reg_param, V_mean, V_sd)"
   ]
  },
  {
   "cell_type": "markdown",
   "metadata": {},
   "source": [
    "# Train-Test Analysis of the dataset using KNN"
   ]
  },
  {
   "cell_type": "code",
   "execution_count": 157,
   "metadata": {},
   "outputs": [
    {
     "data": {
      "image/png": "[encoded data removed]",
      "text/plain": [
       "<Figure size 432x288 with 1 Axes>"
      ]
     },
     "metadata": {
      "needs_background": "light"
     },
     "output_type": "display_data"
    }
   ],
   "source": [
    "K  = list(range(1,30))\n",
    "[training_error_knn,testing_error_knn] = knntrainTestAnalysis(K, Xtr, Ytr, Xte, Yte)\n",
    "plt.plot(K, training_error_knn, 'b', label = 'Training Error')\n",
    "plt.plot(K, testing_error_knn, 'g', label = 'Testing Error')\n",
    "plt.xlabel('Values of K', color='#1C2833')\n",
    "plt.ylabel('Errors', color='#1C2833')\n",
    "plt.legend(loc='upper right')\n",
    "plt.grid()\n",
    "plt.show()"
   ]
  },
  {
   "cell_type": "markdown",
   "metadata": {},
   "source": [
    "# K-Fold Cross Validation for KNN on the same dataset"
   ]
  },
  {
   "cell_type": "code",
   "execution_count": 169,
   "metadata": {},
   "outputs": [
    {
     "name": "stdout",
     "output_type": "stream",
     "text": [
      "15\n",
      "Validation Error for best K: [0.03333333]\n"
     ]
    }
   ],
   "source": [
    "KF = 10\n",
    "k_list = list(range(1, 20))\n",
    "best_k, Vm_knn, Vs_knn, Tm_knn, Ts_knn = KFoldCVkNN(X, Y, KF, k_list)\n",
    "print(best_k)\n",
    "K = [best_k]\n",
    "[training_error_knn, testing_error_knn] = knntrainTestAnalysis(K, Xtr, Ytr, Xte, Yte)\n",
    "print('Validation Error for best K:', testing_error_knn)"
   ]
  },
  {
   "cell_type": "markdown",
   "metadata": {},
   "source": [
    "#### For this data-set the error is same (0.0333) for both SVM and KNN with theri best regularization parameter. But SVM takes a lot of time to compute w.r.t. KNN. The power of SVM comes with data with high dimension and low in number. "
   ]
  },
  {
   "cell_type": "code",
   "execution_count": null,
   "metadata": {},
   "outputs": [],
   "source": []
  }
 ],
 "metadata": {
  "kernelspec": {
   "display_name": "Python 3",
   "language": "python",
   "name": "python3"
  },
  "language_info": {
   "codemirror_mode": {
    "name": "ipython",
    "version": 3
   },
   "file_extension": ".py",
   "mimetype": "text/x-python",
   "name": "python",
   "nbconvert_exporter": "python",
   "pygments_lexer": "ipython3",
   "version": "3.7.6"
  }
 },
 "nbformat": 4,
 "nbformat_minor": 2
}
